{
 "cells": [
  {
   "cell_type": "markdown",
   "id": "4adc101a",
   "metadata": {},
   "source": [
    " # What is an algorithm?\n",
    "       An algorithm is a step-by-step procedure or set of rules designed to perform a specific task or solve a particular problem in a programming language."
   ]
  },
  {
   "cell_type": "markdown",
   "id": "fec3100d",
   "metadata": {},
   "source": [
    "# Variable names may not start with certain characters - name two.\n",
    "    * Cannot start with numbers\n",
    "    * Cannot start with special character\n",
    "#  What is a Semantic error?\n",
    "    Code is grammatically correct but doesnt make any sense.It doesnt produce the expected results.\n",
    "#  What is the #1 rule of coding / debugging?\n",
    "    Complexity is the enemy of Efficiency\n",
    "\n",
    "# List 5 Python reserved words.\n",
    "\n",
    "    . None\n",
    "    . else\n",
    "    . break\n",
    "    . if\n",
    "    . elif\n"
   ]
  },
  {
   "cell_type": "code",
   "execution_count": 5,
   "id": "8f1672ed",
   "metadata": {},
   "outputs": [
    {
     "name": "stdout",
     "output_type": "stream",
     "text": [
      "Eswari  Sankara \n",
      "Favorite Food: Masala Dosa \n",
      "Dream Job: Data Engineer\n"
     ]
    }
   ],
   "source": [
    "info = \"\"\"Eswari  Sankara \n",
    "Favorite Food: Masala Dosa \n",
    "Dream Job: Data Engineer\"\"\"\n",
    "print(info)\n"
   ]
  },
  {
   "cell_type": "code",
   "execution_count": null,
   "id": "4e1d76f4",
   "metadata": {},
   "outputs": [],
   "source": [
    "# 5 Different Data Types\n",
    "my_string = \"DataAnalyst\"      # String\n",
    "my_int = 25                     # Integer\n",
    "my_float = 3.14                 # Float\n",
    "my_bool = True                  # Boolean\n",
    "my_list = [1, 2, 3, 4, 5]      # List\n",
    "\n",
    "# Print the length of the string\n",
    "print(\"Length of my_string:\", len(my_string))\n",
    "\n",
    "# Print the 4th character (index 3) of the string\n",
    "print(\"4th character in my_string:\", my_string[3])\n"
   ]
  },
  {
   "cell_type": "code",
   "execution_count": null,
   "id": "6d989d1d",
   "metadata": {},
   "outputs": [],
   "source": [
    "savvy = \"Learning Data Analytics and Python is Awesome!\"\n",
    "\n",
    "# Slice from \"ing\" up to before \"and\"\n",
    "slice_text = savvy[5:23]\n",
    "print(\"Sliced text:\", slice_text)\n",
    "\n",
    "# Replace \"Awesome\" with \"great\"\n",
    "savvy = savvy.replace(\"Awesome\", \"great\")\n",
    "print(\"Updated savvy string:\", savvy)\n",
    "\n",
    "# Check if 'Python' is in the string\n",
    "print(\"Does savvy contain 'Python'?\",\"Python\" in savvy)"
   ]
  },
  {
   "cell_type": "code",
   "execution_count": null,
   "id": "60610db1",
   "metadata": {},
   "outputs": [],
   "source": [
    "# Multi-variable assignment\n",
    "name, age, length = \"Eswari\", 35, \"5 feet 4 inches\"\n",
    "\n",
    "# Formatting string with variables\n",
    "miniBio = f\"Hi my name is {name}, I am {length} tall and {age} years old today.\"\n",
    "print(\"Mini Bio:\", miniBio)\n",
    "\n",
    "# Casting and printing 'age' to float\n",
    "age_float = float(age)\n",
    "print(\"Age as float:\", age_float)\n"
   ]
  },
  {
   "cell_type": "code",
   "execution_count": null,
   "id": "29f994da",
   "metadata": {},
   "outputs": [],
   "source": [
    "# Create a mixed list\n",
    "my_list = [\"Python\", 10, 3.14, True, [1, 2, 3]]\n",
    "\n",
    "# Replace the 2nd element (index 1) with \"Data\"\n",
    "my_list[1] = \"Data\"\n",
    "\n",
    "# Append and insert new items\n",
    "my_list.append(\"New Item\")\n",
    "my_list.insert(2, False)\n",
    "\n",
    "# Find and print the length\n",
    "print(\"Length of my_list:\", len(my_list))\n",
    "\n",
    "# Slice a sub-section and save to a new list\n",
    "sub_list = my_list[1:4]\n",
    "print(\"Sub-list:\", sub_list)\n",
    "\n",
    "# Extend original list with sub_list\n",
    "my_list.extend(sub_list)\n",
    "print(\"Extended my_list:\", my_list)\n",
    "\n",
    "# Create simList with same data type (integers)\n",
    "simList = [9, 2, 5, 1, 8]\n",
    "\n",
    "# Sort and print simList\n",
    "simList.sort()\n",
    "print(\"Sorted simList:\", simList)\n",
    "\n",
    "# Copy simList to another list\n",
    "simList_copy = simList.copy()\n",
    "\n",
    "# Add sub_list and simList_copy to create a new 4th list\n",
    "list4 = sub_list + simList_copy\n",
    "print(\"List4 (sub_list + simList_copy):\", list4)\n"
   ]
  },
  {
   "cell_type": "code",
   "execution_count": 9,
   "id": "d09d3655",
   "metadata": {},
   "outputs": [
    {
     "name": "stdout",
     "output_type": "stream",
     "text": [
      "('ant', 'cat', 'bat', 'dog', 'Rat', 'ant', 'cat', 'bat', 'dog', 'Rat', 'ant', 'cat', 'bat', 'dog', 'Rat')\n",
      "cat\n",
      "Sorted tuple2: ('Rat', 'Rat', 'Rat', 'ant', 'ant', 'ant', 'bat', 'bat', 'bat', 'cat', 'cat', 'cat', 'dog', 'dog', 'dog')\n",
      "Tuple3: ('ant', 'bat', 'Rat', 'cat')\n",
      "Unpacked variables: ant bat Rat cat\n",
      "50\n",
      "Tuple5: ('ant', 'cat', 'bat', 'dog', 'Rat', 'ant', 'cat', 'bat', 'dog', 'Rat', 'ant', 'cat', 'bat', 'dog', 'Rat', 'ant', 'bat', 'Rat', 'cat')\n"
     ]
    }
   ],
   "source": [
    "#  Create a tuple of about 5 elements\n",
    "my_tuple = (\"ant\", \"cat\", \"bat\", \"dog\", \"Rat\")\n",
    "   # - Multiply your tuple by 3 and save it to a new 2nd tuple\n",
    "my_secondtuple=my_tuple*3\n",
    "print(my_secondtuple)\n",
    "    #- Access and print the 12th element from the 2nd tuple\n",
    "print(my_secondtuple[11])\n",
    "\n",
    "    #- Sort the 2nd tuple and print it\n",
    "sorted_tuple2 = tuple(sorted(my_secondtuple))\n",
    "print(\"Sorted tuple2:\", sorted_tuple2)\n",
    "\n",
    "\n",
    "    #- Copy 4 specific elements from your 2nd tuple to a new 3nd tuple\n",
    "tuple3 = (my_secondtuple[0], my_secondtuple[2], my_secondtuple[4], my_secondtuple[6])\n",
    "print(\"Tuple3:\", tuple3)\n",
    "    #- Unpack the 3rd tuple into 4 variables and print these variables\n",
    "a, b, c, d = tuple3\n",
    "print(\"Unpacked variables:\", a, b, c, d)\n",
    "\n",
    "    #- Create a 4th tuple with single item 50 and print this tuple\n",
    "tuple4=(50)\n",
    "print(tuple4)\n",
    "    #- Add the 2nd and 3rd tuple together into a 5th tuple and print the tuple */\n",
    "tuple5 = my_secondtuple + tuple3\n",
    "print(\"Tuple5:\", tuple5)"
   ]
  },
  {
   "cell_type": "code",
   "execution_count": 11,
   "id": "7871d7d2",
   "metadata": {},
   "outputs": [
    {
     "name": "stdout",
     "output_type": "stream",
     "text": [
      "Updated my_set with fruits: {3.14, 'banana', 42, 'apple', 'orange'}\n",
      "Added car to my_set: {3.14, 'car', 'banana', 42, 'apple', 'orange'}\n",
      "Union of sets (set3): {3.14, 'car', 99, 'banana', 42, 'apple', 'orange', 'pen', 'bike'}\n",
      "Popped element: 99\n",
      "Set2 after pop: {'pen', 'bike'}\n",
      "Cleared my_set: set()\n",
      "Set3 after discard/remove: {3.14, 'car', 99, 'banana', 42, 'orange', 'bike'}\n"
     ]
    }
   ],
   "source": [
    "\n",
    "\n",
    "    # Create a set\n",
    "my_set = {\"apple\", 42, 3.14}\n",
    "\n",
    "# Add a list of fruits using update\n",
    "fruits = [\"banana\", \"orange\"]\n",
    "my_set.update(fruits)\n",
    "print(\"Updated my_set with fruits:\", my_set)\n",
    "\n",
    "# Add a car element\n",
    "my_set.add(\"car\")\n",
    "print(\"Added car to my_set:\", my_set)\n",
    "\n",
    "# Create a 2nd set\n",
    "set2 = {\"bike\", \"pen\", 99}\n",
    "\n",
    "# Union of my_set and set2\n",
    "set3 = my_set.union(set2)\n",
    "print(\"Union of sets (set3):\", set3)\n",
    "\n",
    "# Pop an element from set2\n",
    "popped = set2.pop()\n",
    "print(\"Popped element:\", popped)\n",
    "print(\"Set2 after pop:\", set2)\n",
    "\n",
    "# Clear my_set\n",
    "my_set.clear()\n",
    "print(\"Cleared my_set:\", my_set)\n",
    "\n",
    "# Discard and remove from set3\n",
    "set3.discard(\"pen\")\n",
    "set3.discard(\"apple\")  # remove apple if exists\n",
    "print(\"Set3 after discard/remove:\", set3)\n"
   ]
  },
  {
   "cell_type": "code",
   "execution_count": 13,
   "id": "6fbbeb63",
   "metadata": {},
   "outputs": [
    {
     "name": "stdout",
     "output_type": "stream",
     "text": [
      "Age: 35\n",
      "age is: Eswari Sankara\n",
      "Keys: ['name', 'age', 'is_student', 'grades', 'height', 'color', 'coordinates']\n",
      "Values: ['Eswari', 'Eswari Sankara', False, [85, 90, 95], 5.4, 'Blue', (10.0, 20.0)]\n",
      "Dict2 after pop: {'name': 'Eswari', 'age': 'Eswari Sankara', 'is_student': False, 'grades': [85, 90, 95], 'color': 'Blue', 'coordinates': (10.0, 20.0)}\n",
      "Cleared dict2: {}\n"
     ]
    }
   ],
   "source": [
    "# Create a dictionary with mixed data types\n",
    "my_dict = {\n",
    "    \"name\": \"Eswari\",\n",
    "    \"age\": 35,\n",
    "    \"is_student\": False,\n",
    "    \"grades\": [85, 90, 95],\n",
    "    \"height\": 5.4\n",
    "}\n",
    "\n",
    "# Print 1 value\n",
    "print(\"Age:\", my_dict[\"age\"])\n",
    "\n",
    "# Replace 'age' value with your name\n",
    "my_dict[\"age\"] = \"Eswari Sankara\"\n",
    "print(\"age is:\",my_dict[\"age\"])\n",
    "\n",
    "# Add favorite color\n",
    "my_dict[\"color\"] = \"Blue\"\n",
    "\n",
    "# Add a tuple to the dictionary\n",
    "my_dict[\"coordinates\"] = (10.0, 20.0)\n",
    "\n",
    "# Print keys\n",
    "print(\"Keys:\", list(my_dict.keys()))\n",
    "\n",
    "# Print values\n",
    "print(\"Values:\", list(my_dict.values()))\n",
    "\n",
    "# Copy dictionary\n",
    "dict2 = my_dict.copy()\n",
    "\n",
    "# Pop an item and print\n",
    "dict2.pop(\"height\")\n",
    "print(\"Dict2 after pop:\", dict2)\n",
    "\n",
    "# Clear dict2 and print\n",
    "dict2.clear()\n",
    "print(\"Cleared dict2:\", dict2)\n"
   ]
  }
 ],
 "metadata": {
  "kernelspec": {
   "display_name": "Python 3",
   "language": "python",
   "name": "python3"
  },
  "language_info": {
   "codemirror_mode": {
    "name": "ipython",
    "version": 3
   },
   "file_extension": ".py",
   "mimetype": "text/x-python",
   "name": "python",
   "nbconvert_exporter": "python",
   "pygments_lexer": "ipython3",
   "version": "3.12.7"
  }
 },
 "nbformat": 4,
 "nbformat_minor": 5
}
