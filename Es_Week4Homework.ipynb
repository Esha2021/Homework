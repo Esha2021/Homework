{
 "cells": [
  {
   "cell_type": "markdown",
   "id": "ff233bc7",
   "metadata": {},
   "source": [
    "1. What does one need to do to use a module?\n",
    "     * Need to import a module\n",
    "        example: import math as m\n",
    "1. Name a Module (not the DateTime Nodule) we \n",
    "looked at and write a line or 2 of code as an example using this module.\n",
    "\n",
    "    *  import math as m\n",
    "    *  m.sqrt(5)\n",
    "\n",
    "1. What is a benefit of using Exception handling?\n",
    "    * Python's exception handling mechanism allows for the graceful management of errors and unexpected events that occur during program execution. This prevents abrupt program termination and allows for the implementation of alternative actions or error reporting\n",
    "1. what are the 4 components used for Python Exception Handling?\n",
    "    * try\n",
    "    * except\n",
    "    * else\n",
    "    * finally  \n",
    "\n",
    "1. NumPy arrays are like what Python data type?\n",
    "    * NumPy arrays are like Python lists, but more powerful for numeric operations.\n",
    "\n",
    "1. What is one of the main benefits of using NumPy arrays.\n",
    "    * NumPy arrays allow for faster mathematical operations and are more memory efficient than Python lists.\n",
    "\n",
    "1. What is one of the main requirements about the 'dtype' of NumPy arrays?\n",
    "    * All elements in a NumPy array must have the same data type (dtype).\n",
    "1. Of the 10 uses of NumPy, name 2.\n",
    "    * Numerical computations (like mean, median, standard deviation)\n",
    "\n",
    "    * Array manipulation (reshaping, slicing, etc.)\n",
    "\n",
    "\n",
    "1. Name one of the other libraries we'll use with NumPy?\n",
    "     * Panda\n",
    "1. What is the shape of NumPy arrays?\n",
    "    * The shape is defined by a tuple of integers representing the dimensions of the array.\n",
    "    Example: A 2D array of 3 rows and 4 columns has shape (3, 4).\n",
    "1. What is a Tensor?\n",
    "    * A Tensor is a generalization of arrays to any number of dimensions. (0D = scalar, 1D = vector, 2D = matrix, 3D+ = tensor)\n",
    "\n",
    "1. Name a reason why it's better using  NumPy for Data Analysis than using a Python List?\n",
    "\n",
    "    * Vectorized operations: You can perform calculations on entire arrays without explicit loops, making operations faster and simpler.\n",
    "\n",
    "1. When creating an \"empty\" array, where do the elements come from?\n",
    "   * In NumPy, numpy.empty() creates an array without initializing its values — the elements will contain random \"garbage\" values that happen to exist in that memory space."
   ]
  },
  {
   "cell_type": "code",
   "execution_count": null,
   "id": "64fb7c71",
   "metadata": {},
   "outputs": [],
   "source": []
  },
  {
   "cell_type": "code",
   "execution_count": 10,
   "id": "924e6206",
   "metadata": {},
   "outputs": [
    {
     "name": "stdout",
     "output_type": "stream",
     "text": [
      "Renting a car is very expensive.I'm still very excited about the IA role and wanted to reiterate my interest.\n"
     ]
    }
   ],
   "source": [
    "#1. Create an if statement: if 'age' is greater than or equal to 25, print \"Renting a car is more affordable\", however if 'age' is less than 25, print \"Renting a car is very expensive.I'm still very excited about the IA role and wanted to reiterate my interest.\"\n",
    "\n",
    "age=int(input(\"Enter the age:\"))\n",
    "try: \n",
    "    if age>=25 :\n",
    "       print(\"Renting a car is more affordable\")\n",
    "except Exception as e:\n",
    "    print(e)\n",
    "else:\n",
    "    print(\"Renting a car is very expensive.I'm still very excited about the IA role and wanted to reiterate my interest.\")"
   ]
  },
  {
   "cell_type": "code",
   "execution_count": 16,
   "id": "16d7eba2",
   "metadata": {},
   "outputs": [
    {
     "name": "stdout",
     "output_type": "stream",
     "text": [
      "Renting a car is more affordable.\n",
      "sucessful output\n",
      "execution completed\n"
     ]
    }
   ],
   "source": [
    "#2. Create and chain an if-else  statement: if 'age' is greater than or equal to 25, print \"Renting a car is more affordable.\" If 'age' is less than 25 but greater than or equal to 18, print \"Renting a car is very expensive.\" \n",
    "# Finally, if age is less than 18, print \"You cannot legally rent a car.\"\n",
    " \n",
    "age1=int(input(\"Enter the age:\"))\n",
    "try:\n",
    "    if age1>=25:\n",
    "        print(\"Renting a car is more affordable.\")\n",
    "    elif age1<25 and age1>=18 :\n",
    "        print(\"Renting a car is very expensive.\")\n",
    "    elif age1<18 :\n",
    "        print(\"You cannot legally rent a car.\")\n",
    "except ValueError as e:\n",
    "       print(\"e\")\n",
    "else:\n",
    "    print(\"sucessful output\")\n",
    "finally:\n",
    "    print('execution completed')\n"
   ]
  },
  {
   "cell_type": "code",
   "execution_count": 1,
   "id": "f2dc830b",
   "metadata": {},
   "outputs": [
    {
     "name": "stdout",
     "output_type": "stream",
     "text": [
      "count all the character in the string: 43\n",
      "e\n",
      "u\n",
      "i\n",
      "o\n",
      "o\n",
      "u\n",
      "o\n",
      "e\n",
      "e\n",
      "a\n",
      "o\n",
      "vowel count in the string: 11\n"
     ]
    }
   ],
   "source": [
    "#3.Loop over the following string to\n",
    "#  (1) count all the characters in the string and \n",
    "# (2) print out all the vowels -- \"The quick brown fox jumps over the lazy dog\"\n",
    "str1=\"The quick brown fox jumps over the lazy dog\"\n",
    "print (\"count all the character in the string:\",len(str1))\n",
    "sum=0\n",
    "for i in range(len(str1)):\n",
    "    \n",
    "    if str1[i]=='a' or str1[i]=='e' or str1[i]=='i' or str1[i]=='o' or str1[i]=='u':\n",
    "        print(str1[i])\n",
    "        vowelcount=sum+1\n",
    "        sum+=1\n",
    "print(\"vowel count in the string:\",vowelcount)        \n"
   ]
  },
  {
   "cell_type": "code",
   "execution_count": 36,
   "id": "41ee11af",
   "metadata": {},
   "outputs": [
    {
     "name": "stdout",
     "output_type": "stream",
     "text": [
      "trousers auburn\n",
      "trousers gunmetal blue\n",
      "trousers fuchsia\n",
      "trousers maple\n",
      "trousers cerise\n",
      "trousers aqua\n",
      "trousers Dark Sapphire\n",
      "trousers burnt sienna\n",
      "blouse auburn\n",
      "blouse gunmetal blue\n",
      "blouse fuchsia\n",
      "blouse maple\n",
      "blouse cerise\n",
      "blouse aqua\n",
      "blouse Dark Sapphire\n",
      "blouse burnt sienna\n",
      "bandana auburn\n",
      "bandana gunmetal blue\n",
      "bandana fuchsia\n",
      "bandana maple\n",
      "bandana cerise\n",
      "bandana aqua\n",
      "bandana Dark Sapphire\n",
      "bandana burnt sienna\n",
      "cumber band auburn\n",
      "cumber band gunmetal blue\n",
      "cumber band fuchsia\n",
      "cumber band maple\n",
      "cumber band cerise\n",
      "cumber band aqua\n",
      "cumber band Dark Sapphire\n",
      "cumber band burnt sienna\n",
      "blazer auburn\n",
      "blazer gunmetal blue\n",
      "blazer fuchsia\n",
      "blazer maple\n",
      "blazer cerise\n",
      "blazer aqua\n",
      "blazer Dark Sapphire\n",
      "blazer burnt sienna\n",
      "vest auburn\n",
      "vest gunmetal blue\n",
      "vest fuchsia\n",
      "vest maple\n",
      "vest cerise\n",
      "vest aqua\n",
      "vest Dark Sapphire\n",
      "vest burnt sienna\n",
      "french beret auburn\n",
      "french beret gunmetal blue\n",
      "french beret fuchsia\n",
      "french beret maple\n",
      "french beret cerise\n",
      "french beret aqua\n",
      "french beret Dark Sapphire\n",
      "french beret burnt sienna\n",
      "scarf auburn\n",
      "scarf gunmetal blue\n",
      "scarf fuchsia\n",
      "scarf maple\n",
      "scarf cerise\n",
      "scarf aqua\n",
      "scarf Dark Sapphire\n",
      "scarf burnt sienna\n",
      "stole auburn\n",
      "stole gunmetal blue\n",
      "stole fuchsia\n",
      "stole maple\n",
      "stole cerise\n",
      "stole aqua\n",
      "stole Dark Sapphire\n",
      "stole burnt sienna\n"
     ]
    }
   ],
   "source": [
    "#4. Write a nested loop that prints out every piece of clothing from the `couture` list, in every fashionable color from the `panettone` set: \n",
    "#couture = [\"trousers\", \"blouse\", \"bandana\", \"cumber band\", \"blazer\", \"vest\", \"french beret\", \"scarf\", \"stole\"] and \n",
    "# panettone = {\"cerise\", \"fuchsia\", \"aqua\", \"maple\", \"auburn\", \"burnt sienna\", \"gunmetal blue\", \"Dark Sapphire\"}\n",
    "\n",
    "#list\n",
    "couture = [\"trousers\", \"blouse\", \"bandana\", \"cumber band\", \"blazer\", \"vest\", \"french beret\", \"scarf\", \"stole\"] \n",
    "\n",
    "#set\n",
    "panettone = {\"cerise\", \"fuchsia\", \"aqua\", \"maple\", \"auburn\", \"burnt sienna\", \"gunmetal blue\", \"Dark Sapphire\"}\n",
    "\n",
    "for c in range(len(couture)):\n",
    "    for p in panettone:\n",
    "        print( couture[c] , p)\n"
   ]
  },
  {
   "cell_type": "code",
   "execution_count": 2,
   "id": "7dc579c0",
   "metadata": {},
   "outputs": [
    {
     "name": "stdout",
     "output_type": "stream",
     "text": [
      "5050\n"
     ]
    }
   ],
   "source": [
    "#5. Use range as a loop to calculate the sum of all the numbers from 1 to 100\n",
    "sum_of_all_numbers=0\n",
    "for i in range(1,101):\n",
    "    sum_of_all_numbers+=i\n",
    "print(sum_of_all_numbers)\n",
    "\n"
   ]
  },
  {
   "cell_type": "code",
   "execution_count": null,
   "id": "777506d0",
   "metadata": {},
   "outputs": [
    {
     "name": "stdout",
     "output_type": "stream",
     "text": [
      "banana\n"
     ]
    }
   ],
   "source": [
    "#6. Print the second item in this fruits list.    [\"apple\", \"banana\", \"cherry\"]\n",
    "\n",
    "fruits=[\"apple\", \"banana\", \"cherry\"]\n",
    "\n",
    "print(fruits[1])"
   ]
  },
  {
   "cell_type": "code",
   "execution_count": null,
   "id": "7b3e4ad4",
   "metadata": {},
   "outputs": [
    {
     "name": "stdout",
     "output_type": "stream",
     "text": [
      "['kiwi', 'banana', 'cherry']\n"
     ]
    }
   ],
   "source": [
    "#7.  Change the value from \"apple\" to \"kiwi\", in the fruits list.    [\"apple\", \"banana\", \"cherry\"]\n",
    "\n",
    "fruits=[\"apple\", \"banana\", \"cherry\"]\n",
    "fruits[0]=\"kiwi\"\n",
    "print(fruits)"
   ]
  },
  {
   "cell_type": "code",
   "execution_count": null,
   "id": "bf095847",
   "metadata": {},
   "outputs": [
    {
     "name": "stdout",
     "output_type": "stream",
     "text": [
      "['apple', 'banana', 'cherry', 'orange']\n"
     ]
    }
   ],
   "source": [
    "#8. Use the append method to add \"orange\" to the fruits list. [\"apple\", \"banana\", \"cherry\"]\n",
    "fruit_list=[\"apple\", \"banana\", \"cherry\"]\n",
    "fruit_list.append(\"orange\")\n",
    "print(fruit_list)\n"
   ]
  },
  {
   "cell_type": "code",
   "execution_count": 3,
   "id": "65670222",
   "metadata": {},
   "outputs": [
    {
     "name": "stdout",
     "output_type": "stream",
     "text": [
      "['apple', 'banana', 'lemon', 'cherry']\n"
     ]
    }
   ],
   "source": [
    "#9 Use the insert method to add \"lemon\" as the second item in the fruits list.\n",
    " #   [\"apple\", \"banana\", \"cherry\"]\n",
    "fruit_list1=[\"apple\", \"banana\", \"cherry\"]\n",
    "fruit_list1.insert(2,\"lemon\")\n",
    "print(fruit_list1)"
   ]
  },
  {
   "cell_type": "code",
   "execution_count": 7,
   "id": "45eb3094",
   "metadata": {},
   "outputs": [
    {
     "name": "stdout",
     "output_type": "stream",
     "text": [
      "['apple', 'cherry']\n"
     ]
    }
   ],
   "source": [
    "#10. Use the remove method to remove \"banana\" from the fruits list.\n",
    "   # [\"apple\", \"banana\", \"cherry\"]\n",
    "fruit_list2=[\"apple\", \"banana\", \"cherry\"]\n",
    "fruit_list2.remove(\"banana\")\n",
    "print(fruit_list2)"
   ]
  },
  {
   "cell_type": "code",
   "execution_count": null,
   "id": "b5be8a26",
   "metadata": {},
   "outputs": [
    {
     "name": "stdout",
     "output_type": "stream",
     "text": [
      "['kiwi', 'melon']\n"
     ]
    }
   ],
   "source": [
    "#11.Use negative indexing to print the 3rd and 2nd to last items in the list.    [\"apple\", \"banana\", \"cherry\", \"orange\", \"kiwi\", \"melon\", \"mango\"]\n",
    "\n",
    "fruit_indexing=[\"apple\", \"banana\", \"cherry\", \"orange\", \"kiwi\", \"melon\", \"mango\"]\n",
    "slice1=fruit_indexing[-3:-1]\n",
    "print(slice1)"
   ]
  },
  {
   "cell_type": "code",
   "execution_count": null,
   "id": "bd6f1279",
   "metadata": {},
   "outputs": [
    {
     "name": "stdout",
     "output_type": "stream",
     "text": [
      "['orange', 'kiwi', 'melon']\n"
     ]
    }
   ],
   "source": [
    "#12.Use a range of indexes to print the third, fourth, and fifth item in the list.\n",
    "fruit_range=[\"apple\", \"banana\", \"cherry\", \"orange\", \"kiwi\", \"melon\", \"mango\"]\n",
    "print(fruit_range[3:6])\n",
    "\n"
   ]
  },
  {
   "cell_type": "code",
   "execution_count": null,
   "id": "20e9e2ec",
   "metadata": {},
   "outputs": [
    {
     "name": "stdout",
     "output_type": "stream",
     "text": [
      "7\n"
     ]
    }
   ],
   "source": [
    "#13.Use the correct syntax to print the number of items in the list.\n",
    "fruititem=  [\"apple\", \"banana\", \"cherry\", \"orange\", \"kiwi\", \"melon\", \"mango\"]\n",
    "print(\"number of item in the list\",len(fruititem))\n"
   ]
  },
  {
   "cell_type": "code",
   "execution_count": null,
   "id": "34ee08dd",
   "metadata": {},
   "outputs": [
    {
     "name": "stdout",
     "output_type": "stream",
     "text": [
      "['apple', 'banana', 'cherry', 'kiwi', 'mango', 'melon', 'orange']\n",
      "['orange', 'melon', 'mango', 'kiwi', 'cherry', 'banana', 'apple']\n"
     ]
    }
   ],
   "source": [
    "#14.Use the correct syntax to sort this list in reverse order\n",
    "fruitlist= [\"apple\", \"banana\", \"cherry\", \"orange\", \"kiwi\", \"melon\", \"mango\"]\n",
    "fruitlist_sorted=sorted(fruitlist)\n",
    "print(fruitlist_sorted)\n",
    "fruitlist_reversed= list(reversed(fruitlist_sorted))\n",
    "print(fruitlist_reversed)\n"
   ]
  },
  {
   "cell_type": "code",
   "execution_count": null,
   "id": "774182f2",
   "metadata": {},
   "outputs": [
    {
     "name": "stdout",
     "output_type": "stream",
     "text": [
      "2025-06-21 19:37:43.590373\n",
      "June\n",
      "Jun\n"
     ]
    }
   ],
   "source": [
    "#15.Use the DateTime module to get Current Date and Time, and save it to a variable. \n",
    "# Then extract just the Full month name form that variable.\n",
    "\n",
    "import datetime as dt\n",
    "x=dt.datetime.now()\n",
    "print(x)\n",
    "#strftime()-\"%B\" full month name,%b-gives apperivation of monthname\n",
    "y=x.strftime(\"%B\")\n",
    "print(y)\n",
    "print(x.strftime(\"%b\"))"
   ]
  },
  {
   "cell_type": "code",
   "execution_count": null,
   "id": "12a74c08",
   "metadata": {},
   "outputs": [
    {
     "name": "stdout",
     "output_type": "stream",
     "text": [
      "Hi savvy! Happy sunday!\n",
      "Hi savvy! Happy monday!\n"
     ]
    }
   ],
   "source": [
    "#16. Write a simple function that takes 2 parameters -- a  first name and a day name.\n",
    "    #.- Set a default value for the day name of Sunday.\n",
    "    #.- Have the function print out a greeting -- using the parameters -- that says something like \"Hi first-name! Happy day-name!\". Remember to use the variables in the greeting to replace first-name and day-name.  \n",
    "    #.- Invoke this function with 2 variables.\n",
    "    #.- Invoke this function with 1 variable only.\n",
    "\n",
    "def simplefunction(fname,dname=\"sunday\"):\n",
    "    firstname=fname\n",
    "    dayname=dname\n",
    "    return f\"Hi {firstname}! Happy {dayname}!\"\n",
    "\n",
    "\n",
    "print(simplefunction(fname=\"savvy\"))\n",
    "print(simplefunction(fname=\"savvy\",dname=\"monday\"))"
   ]
  },
  {
   "cell_type": "code",
   "execution_count": null,
   "id": "20b14e5d",
   "metadata": {},
   "outputs": [],
   "source": [
    "# 17.Write a block of code to handle one of the most common Python exception errors. \n",
    "# Select one of the common errors from the curriculum section on Python Exception handling. \n",
    "# Have your code example uses the `try`,`except`, `else`, and `finally` components.\n",
    "\n",
    "try:\n",
    "    \n",
    "    x=int(input(\"Enter the number1:\"))\n",
    "    y=int(input(\"Enter the number2:\"))\n",
    "\n",
    "    total=x+y\n",
    "    if(total>=100):\n",
    "        print(\"inputs are high\")\n",
    "    elif total>=1 and total<100:\n",
    "        print(\"input is low\")\n",
    "    else:\n",
    "        print(\"Enter the whole number above \")   \n",
    "except Exception as e:\n",
    "    print(e)\n",
    "\n",
    "finally:\n",
    "    print(\"execucted\")\n",
    "\n",
    "\n",
    "\n"
   ]
  }
 ],
 "metadata": {
  "kernelspec": {
   "display_name": "Python 3",
   "language": "python",
   "name": "python3"
  },
  "language_info": {
   "codemirror_mode": {
    "name": "ipython",
    "version": 3
   },
   "file_extension": ".py",
   "mimetype": "text/x-python",
   "name": "python",
   "nbconvert_exporter": "python",
   "pygments_lexer": "ipython3",
   "version": "3.12.7"
  }
 },
 "nbformat": 4,
 "nbformat_minor": 5
}
