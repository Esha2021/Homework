{
 "cells": [
  {
   "cell_type": "markdown",
   "id": "870a49ca",
   "metadata": {},
   "source": [
    "# Pandas and Data Cleaning Basics\n",
    "\n",
    "## 1. What does Pandas stand for?\n",
    "**Pandas** stands for **\"Python Data Analysis Library\"**.  \n",
    "The name is derived from the term **\"Panel Data\"**, an econometrics term for multidimensional structured datasets.\n",
    "\n",
    "---\n",
    "\n",
    "## 2. What are the 2 collections used in Pandas?\n",
    "- `Series`: A one-dimensional labeled array.\n",
    "- `DataFrame`: A two-dimensional labeled table (rows and columns).\n",
    "\n",
    "---\n",
    "\n",
    "## 3. Name 4 things Pandas can do for us.\n",
    "1. Load and read data from CSV, Excel, JSON, SQL, etc.\n",
    "2. Clean and preprocess data (e.g., handle missing values, rename columns).\n",
    "3. Perform data analysis with grouping, aggregation, and statistics.\n",
    "4. Sort and manipulate data (merge, join, reshape, filter, etc.).\n",
    "\n",
    "---\n",
    "\n",
    "## 4. To permanently sort a DataFrame, which keyword should one use with the `df.sort()` method?\n",
    "  df.sort_values(by='coloumnname',inplace=True)\n",
    "\n",
    "\n",
    "\n",
    "## 5. What is a CSV?\n",
    "\n",
    "CSV stands for Comma-Separated Values.\n",
    "\n",
    "\n",
    "It's a plain text file format where each line is a data record, and columns are separated by commas. It's commonly used for storing tabular data.\n",
    "\n",
    "---\n",
    "\n",
    "## 6.  When cleaning data what values do we not like in our data?\n",
    "\n",
    "We typically want to remove or handle the following:\n",
    "\n",
    "1. Missing values (NaN, None)\n",
    "2. Duplicates\n",
    "3. Inconsistent formatting (e.g., lowercase vs uppercase, extra spaces)\n",
    "4. Outliers\n",
    "5. Invalid or corrupted data (e.g., strings in a numeric column)\n",
    "\n",
    "---"
   ]
  },
  {
   "cell_type": "code",
   "execution_count": null,
   "id": "e21fd7db",
   "metadata": {},
   "outputs": [
    {
     "name": "stdout",
     "output_type": "stream",
     "text": [
      "[ 0  1  2  3  4  5  6  7  8  9 10 11]\n",
      "[[[ 0  1]\n",
      "  [ 2  3]\n",
      "  [ 4  5]]\n",
      "\n",
      " [[ 6  7]\n",
      "  [ 8  9]\n",
      "  [10 11]]]\n"
     ]
    }
   ],
   "source": [
    "\n",
    "\n",
    "#7. Import NumPy, use one of the NumPy methods \n",
    "# and create an array with a \n",
    "# shape of (2, 3, 2). \n",
    "# You can use the reshape method -- `.reshape()`\n",
    "\n",
    "import numpy as np\n",
    "array1=np.arange(12)\n",
    "print(array1)\n",
    "reshapedarray=array1.reshape(2,3,2)\n",
    "print(reshapedarray)"
   ]
  },
  {
   "cell_type": "code",
   "execution_count": null,
   "id": "e73bf818",
   "metadata": {},
   "outputs": [
    {
     "name": "stdout",
     "output_type": "stream",
     "text": [
      "[ 0.  4.  8. 12. 16. 20.]\n"
     ]
    }
   ],
   "source": [
    "#8. Use NumPy `.linspace()` to create an array with \n",
    "# 6 linearly spaced values between 0 and 20\n",
    "\n",
    "\n",
    "arr = np.linspace(0, 20, 6)\n",
    "print(arr)"
   ]
  },
  {
   "cell_type": "code",
   "execution_count": null,
   "id": "c75413c7",
   "metadata": {},
   "outputs": [
    {
     "name": "stdout",
     "output_type": "stream",
     "text": [
      "[ 0.  4.  8. 12. 16. 20.]\n"
     ]
    }
   ],
   "source": [
    "#9. Make a Deep Copy of the above array\n",
    "import copy\n",
    "copyabove_arr=copy.deepcopy(arr)\n",
    "print(copyabove_arr)\n"
   ]
  },
  {
   "cell_type": "code",
   "execution_count": 10,
   "id": "5af0b499",
   "metadata": {},
   "outputs": [
    {
     "name": "stdout",
     "output_type": "stream",
     "text": [
      "[[25 16]\n",
      " [11  2]\n",
      " [13  4]\n",
      " [ 7 81]\n",
      " [ 5  6]\n",
      " [11 12]]\n"
     ]
    }
   ],
   "source": [
    "#10. Concatenate these 3 arrays into a new array named 'newArray'...\n",
    "#   ```python\n",
    "#           ([[25, 16]])\n",
    "#           ([[11, 2], [13, 4]])\n",
    "#          ([[7, 81], [5, 6], [11, 12]])\n",
    "#    ```\n",
    "\n",
    "arr1=([[25, 16]])\n",
    "arr2=([[11, 2], [13, 4]])\n",
    "arr3=([[7, 81], [5, 6], [11, 12]])\n",
    "\n",
    "newArray=np.concatenate((arr1,arr2,arr3),axis=0)\n",
    "print(newArray)"
   ]
  },
  {
   "cell_type": "code",
   "execution_count": 11,
   "id": "8803b60e",
   "metadata": {},
   "outputs": [
    {
     "name": "stdout",
     "output_type": "stream",
     "text": [
      "[[16 25]\n",
      " [ 2 11]\n",
      " [ 4 13]\n",
      " [ 7 81]\n",
      " [ 5  6]\n",
      " [11 12]]\n"
     ]
    }
   ],
   "source": [
    "#11. Sort 'newArray' in order into 'sortedArray'\n",
    "sortedArray=np.sort(newArray)\n",
    "print(sortedArray)"
   ]
  },
  {
   "cell_type": "code",
   "execution_count": 17,
   "id": "65330a2e",
   "metadata": {},
   "outputs": [
    {
     "name": "stdout",
     "output_type": "stream",
     "text": [
      "[[[ 0  1]\n",
      "  [ 2  3]\n",
      "  [ 4  5]]\n",
      "\n",
      " [[ 6  7]\n",
      "  [ 8  9]\n",
      "  [10 11]]]\n",
      "4 variables [0 1],[2 3],[4 5],[6 7]\n"
     ]
    }
   ],
   "source": [
    "#12. Unpack the array tuples from the above 'reshapedArray'  \n",
    "# into 4 well named variables. Print the 4 variables.\n",
    "print(reshapedarray)\n",
    "a,b,c=reshapedarray[0]\n",
    "d,e,f=reshapedarray[1]\n",
    "#print the 4 variables\n",
    "print(f\"4 variables {a},{b},{c},{d}\")\n"
   ]
  },
  {
   "cell_type": "code",
   "execution_count": 8,
   "id": "87dc73fa",
   "metadata": {},
   "outputs": [
    {
     "name": "stdout",
     "output_type": "stream",
     "text": [
      "[ 0  1  2  3  4  5  6  7 10 11 12 13 14 15 16 17 20 21 22 23 24 25 26 27]\n"
     ]
    }
   ],
   "source": [
    "#13. Combined and sort the following arrays into one called 'comboArray' ...\n",
    "\n",
    "    \n",
    "one = ([10, 11, 12, 13, 14, 15, 16, 17])\n",
    "two = ([20, 21, 22, 23, 24, 25, 26, 27])\n",
    "three = ([ 0, 1, 2, 3, 4, 5, 6, 7])\n",
    "combinedArray=np.concatenate((one,two,three),axis=0)\n",
    "comboArray=np.sort(combinedArray)\n",
    "print(comboArray)"
   ]
  },
  {
   "cell_type": "code",
   "execution_count": null,
   "id": "5ac85c09",
   "metadata": {},
   "outputs": [
    {
     "name": "stdout",
     "output_type": "stream",
     "text": [
      "1\n",
      "[ 2  3  4  5  6  7 10 11 12 13 14 15 16 17 20 21 22 23 24 25 26 27]\n",
      "[ 3  4  5  6  7 10 11 12 13 14 15 16]\n",
      "[22 23 24 25 26 27]\n",
      "[ 0  1  2  3  4  5  6  7 10 11]\n",
      "[24 26]\n",
      "[27]\n"
     ]
    }
   ],
   "source": [
    "#14 Take 'comboArray' and perform the following slicing activities:\n",
    " #   - print sec1 - the 2nd element\n",
    " #    - print sec2 - all elements from the 3rd element to the last\n",
    " #    - print sec3 - all elements from the 4th to the 14th elements\n",
    " #    - print sec4 - the last 6 elements\n",
    " #    - print sec5 - all element from #0 up to and including #15, using the negative number method, i.e. taking a section from the end.\n",
    " #    - print sec6 - from #20 every even element to the end\n",
    " #    - print sec7 - from the last element moving forward, every 5th element.\n",
    "\n",
    "sec1 =comboArray[1]\n",
    "sec2=comboArray[2:]\n",
    "sec3=comboArray[3:15]\n",
    "sec4=comboArray[-6::]\n",
    "sec5=comboArray[:16]\n",
    "sec6=comboArray[20::2]\n",
    "sec7=comboArray[-1::5]\n",
    "print(sec1)\n",
    "print(sec2)\n",
    "print(sec3)\n",
    "print(sec4)\n",
    "print(sec5)\n",
    "print(sec6)\n",
    "print(sec7)"
   ]
  },
  {
   "cell_type": "code",
   "execution_count": 10,
   "id": "e0768705",
   "metadata": {},
   "outputs": [
    {
     "name": "stdout",
     "output_type": "stream",
     "text": [
      "  Ingredients  Quantity   Unit\n",
      "0       Flour         4    cup\n",
      "1        Milk         1    cup\n",
      "2        Eggs         2  large\n",
      "3        Spam         1    can\n"
     ]
    }
   ],
   "source": [
    "#15. Using `Series`, create a `DataFrame` that looks like this:\n",
    "\n",
    "   # | Ingredients | Quantity | Unit |\n",
    "    # |----|----|----|\n",
    "    # | Flour | 4 | cups |\n",
    "    # | Milk | 1 | cup |\n",
    "    # | Eggs | 2 | large |\n",
    "    # | Spam | 1 | can |\n",
    "\n",
    "    # Name: Dinner, dtype: object\n",
    "import pandas as pd\n",
    "Ingredients=pd.Series([\"Flour\",\"Milk\",\"Eggs\",\"Spam\"])\n",
    "Quantity=pd.Series([4,1,2,1])\n",
    "Unit=pd.Series([\"cup\",\"cup\",\"large\",\"can\"])\n",
    "\n",
    "df=pd.DataFrame({\n",
    "    \"Ingredients\":Ingredients,\n",
    "    \"Quantity\":Quantity,\n",
    "    \"Unit\":Unit\n",
    "})\n",
    "print(df)"
   ]
  },
  {
   "cell_type": "code",
   "execution_count": 11,
   "id": "f5b9d29b",
   "metadata": {},
   "outputs": [
    {
     "name": "stdout",
     "output_type": "stream",
     "text": [
      "      Name  Height Qualification  address  Age        Pets           sport\n",
      "0      Jai     5.1           Msc    Delhi   21         Dog           Darts\n",
      "1  janusha     6.2            MA     Doha   23       Bunny      Basketball\n",
      "2   Gaurav     5.1           Msc  Chennai   24  Chinchilla  PaddleBoarding\n",
      "3     Anuj     5.2           Msc   Dakhar   21      Parrot         Cricket\n"
     ]
    }
   ],
   "source": [
    "# 16. Take this data and create a DataFrame named studentData\n",
    "#     ```Python\n",
    "#         {'Name': ['Jai', 'janusha', 'Gaurav', 'Anuj'],\n",
    "#             'Height': [5.1, 6.2, 5.1, 5.2],\n",
    "#             'Qualification': ['Msc', 'MA', 'Msc', 'Msc'],\n",
    "#             'address': ['Delhi', 'Doha', 'Chennai', 'Dakhar'],\n",
    "#             'Age': [21, 23, 24, 21],\n",
    "#             'Pets': ['Dog', 'Bunny', 'Chinchilla', 'Parrot'],\n",
    "#             'sport': ['Darts', 'Basketball', 'PaddleBoarding', 'Cricket']\n",
    "#         }\n",
    "#     ```\n",
    "\n",
    "data = {\n",
    "    'Name': ['Jai', 'janusha', 'Gaurav', 'Anuj'],\n",
    "    'Height': [5.1, 6.2, 5.1, 5.2],\n",
    "    'Qualification': ['Msc', 'MA', 'Msc', 'Msc'],\n",
    "    'address': ['Delhi', 'Doha', 'Chennai', 'Dakhar'],\n",
    "    'Age': [21, 23, 24, 21],\n",
    "    'Pets': ['Dog', 'Bunny', 'Chinchilla', 'Parrot'],\n",
    "    'sport': ['Darts', 'Basketball', 'PaddleBoarding', 'Cricket']\n",
    "}\n",
    "\n",
    "studentData = pd.DataFrame(data)\n",
    "print(studentData)"
   ]
  },
  {
   "cell_type": "code",
   "execution_count": null,
   "id": "0365c848",
   "metadata": {},
   "outputs": [],
   "source": [
    "\n",
    "# 17. Add a new column to the DataFrame with the following deserts:\n",
    "#         [\"ice cream\", \"Cashew Fudge\", \"waffels\", \"Carrot Halwa\"]\n",
    "studentData[\"Desserts\"] = [\"ice cream\", \"Cashew Fudge\", \"waffels\", \"Carrot Halwa\"]\n",
    "print(studentData)"
   ]
  },
  {
   "cell_type": "code",
   "execution_count": null,
   "id": "78ce1a5e",
   "metadata": {},
   "outputs": [],
   "source": [
    "# 18. Sort the 'studentData' DataFrame in Ascending order -- Sorting by column 'Name' and then \"address\"\n",
    "studentDataSorted=studentData.sort_values([by='Name','Address'],[ascending=True,True])\n",
    "print(studentDataSorted)"
   ]
  },
  {
   "cell_type": "code",
   "execution_count": null,
   "id": "0b95e4f5",
   "metadata": {},
   "outputs": [],
   "source": [
    "# 19. Save this `DataFrame` here below to disc as a `.CSV` file with the name `cows_and_goats.csv`:\n",
    "\n",
    "#     ```python\n",
    "#         df = pd.DataFrame({'Cows': [12, 20], 'Goats': [22, 19]}, index=['Year 1', 'Year 2'])\n",
    "#     ```\n",
    "df = pd.DataFrame({'Cows': [12, 20], 'Goats': [22, 19]}, index=['Year 1', 'Year 2'])\n",
    "df.to_csv('cows_and_goats.csv')"
   ]
  },
  {
   "cell_type": "code",
   "execution_count": 24,
   "id": "5ba74c48",
   "metadata": {},
   "outputs": [
    {
     "name": "stdout",
     "output_type": "stream",
     "text": [
      "  Vegetable   Color\n",
      "0    Carrot  Orange\n",
      "1  Broccoli   Green\n",
      "2   Spinach   Green\n",
      "3    Tomato     Red\n",
      "  Vegetable   Color  Is_leafy\n",
      "0    Carrot  Orange     False\n",
      "1  Broccoli   Green     False\n",
      "2   Spinach   Green      True\n",
      "3    Tomato     Red     False\n"
     ]
    }
   ],
   "source": [
    "# 20. (A) Using Pandas, make your own .\n",
    "# CSV file with data on vegetables and save it. \n",
    "# (B) Using Pandas, make a change to your CSV file, \n",
    "# and save a copy with a different name.\n",
    "veggies = pd.DataFrame({\n",
    "    'Vegetable': ['Carrot', 'Broccoli', 'Spinach', 'Tomato'],\n",
    "    'Color': ['Orange', 'Green', 'Green', 'Red'],\n",
    "   })\n",
    "veggies.to_csv('vegetables.csv', index=False)\n",
    "vegetables=pd.read_csv('vegetables.csv')\n",
    "print(vegetables)\n",
    "\n",
    "vegetables['Is_leafy']=[False,False,True,False]\n",
    "vegetables.to_csv('vegetables_New.csv',index=False)\n",
    "new_vegetable=pd.read_csv('vegetables_New.csv')\n",
    "print(new_vegetable)"
   ]
  }
 ],
 "metadata": {
  "kernelspec": {
   "display_name": "Python 3",
   "language": "python",
   "name": "python3"
  },
  "language_info": {
   "codemirror_mode": {
    "name": "ipython",
    "version": 3
   },
   "file_extension": ".py",
   "mimetype": "text/x-python",
   "name": "python",
   "nbconvert_exporter": "python",
   "pygments_lexer": "ipython3",
   "version": "3.12.7"
  }
 },
 "nbformat": 4,
 "nbformat_minor": 5
}
